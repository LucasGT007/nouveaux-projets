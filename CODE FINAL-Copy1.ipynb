{
 "cells": [
  {
   "cell_type": "code",
   "execution_count": null,
   "id": "4fb36a40-cffe-48e6-af15-e2790cf89dda",
   "metadata": {},
   "outputs": [
    {
     "name": "stdout",
     "output_type": "stream",
     "text": [
      "\n",
      "--- Menu Principal ---\n",
      "1. Vérification du mot de passe\n",
      "2. Gestion des mots de passe\n",
      "3. Chiffrement / Déchiffrement\n",
      "4. Quitter\n"
     ]
    },
    {
     "name": "stdin",
     "output_type": "stream",
     "text": [
      "\n",
      "Choisissez une option (1-4):  1\n",
      "\n",
      "Entrez un mot de passe à vérifier:  Lucas$$$0\n"
     ]
    },
    {
     "name": "stdout",
     "output_type": "stream",
     "text": [
      "\n",
      "Mot de passe valide.\n"
     ]
    },
    {
     "name": "stdin",
     "output_type": "stream",
     "text": [
      "\n",
      "Souhaitez-vous ajouter ce mot de passe à un service ? (oui/non) :  oui\n",
      "\n",
      "Entrez le nom du service (ex. Google) :  X\n"
     ]
    },
    {
     "name": "stdout",
     "output_type": "stream",
     "text": [
      "\n",
      "Mot de passe pour le service X ajouté avec succès.\n",
      "\n",
      "--- Menu Principal ---\n",
      "1. Vérification du mot de passe\n",
      "2. Gestion des mots de passe\n",
      "3. Chiffrement / Déchiffrement\n",
      "4. Quitter\n"
     ]
    },
    {
     "name": "stdin",
     "output_type": "stream",
     "text": [
      "\n",
      "Choisissez une option (1-4):  3\n",
      "\n",
      "Entrez le nom du service pour lequel vous voulez chiffrer ou déchiffrer le mot de passe :  X\n",
      "\n",
      "Souhaitez-vous chiffrer ou déchiffrer ce mot de passe ? (chiffrer/déchiffrer) :  chiffrer\n",
      "\n",
      "Entrez le décalage pour le chiffrement (ex. 3) :  2\n"
     ]
    },
    {
     "name": "stdout",
     "output_type": "stream",
     "text": [
      "\n",
      "Mot de passe chiffré : Nwecu$$$0\n",
      "\n",
      "--- Menu Principal ---\n",
      "1. Vérification du mot de passe\n",
      "2. Gestion des mots de passe\n",
      "3. Chiffrement / Déchiffrement\n",
      "4. Quitter\n"
     ]
    },
    {
     "name": "stdin",
     "output_type": "stream",
     "text": [
      "\n",
      "Choisissez une option (1-4):  3\n",
      "\n",
      "Entrez le nom du service pour lequel vous voulez chiffrer ou déchiffrer le mot de passe :  X\n",
      "\n",
      "Souhaitez-vous chiffrer ou déchiffrer ce mot de passe ? (chiffrer/déchiffrer) :  déchiffrer\n",
      "\n",
      "Entrez le mot de passe chiffré :  Nwecu$$$0\n",
      "\n",
      "Entrez le décalage pour déchiffrer le mot de passe :  2\n"
     ]
    },
    {
     "name": "stdout",
     "output_type": "stream",
     "text": [
      "\n",
      "Mot de passe déchiffré : Lucas$$$0\n",
      "\n",
      "--- Menu Principal ---\n",
      "1. Vérification du mot de passe\n",
      "2. Gestion des mots de passe\n",
      "3. Chiffrement / Déchiffrement\n",
      "4. Quitter\n"
     ]
    }
   ],
   "source": [
    "import re\n",
    "\n",
    "# Partie 1 : Vérification du mot de passe\n",
    "def verifier_mot_de_passe(mot_de_passe):\n",
    "    \"\"\"Vérifie si le mot de passe respecte les critères (8 caractères, 1 chiffre, 1 caractère spécial).\"\"\"\n",
    "    if len(mot_de_passe) < 8:\n",
    "        print(\"\\nLe mot de passe doit contenir au moins 8 caractères.\")\n",
    "        return False\n",
    "    if not re.search(r'\\d', mot_de_passe):  # Vérifier la présence d'un chiffre\n",
    "        print(\"\\nLe mot de passe doit contenir au moins un chiffre.\")\n",
    "        return False\n",
    "    if not re.search(r'[!@#$%^&*(),.?\":{}|<>]', mot_de_passe):  # Vérifier un caractère spécial\n",
    "        print(\"\\nLe mot de passe doit contenir au moins un caractère spécial.\")\n",
    "        return False\n",
    "    return True\n",
    "\n",
    "# Partie 2 : Gestion des mots de passe\n",
    "class GestionMotsDePasse:\n",
    "    def __init__(self):\n",
    "        self.mots_de_passe = {}  # Dictionnaire pour stocker les mots de passe par service\n",
    "\n",
    "    def ajouter_mot_de_passe(self, service, mot_de_passe):\n",
    "        \"\"\"Ajoute un mot de passe pour un service donné si il est valide.\"\"\"\n",
    "        if verifier_mot_de_passe(mot_de_passe):\n",
    "            self.mots_de_passe[service] = mot_de_passe\n",
    "            print(f\"\\nMot de passe pour le service {service} ajouté avec succès.\")\n",
    "        else:\n",
    "            print(\"\\nMot de passe invalide, il n'a pas été ajouté.\")\n",
    "\n",
    "    def afficher_mots_de_passe(self, service):\n",
    "        \"\"\"Affiche le mot de passe pour un service donné.\"\"\"\n",
    "        if service in self.mots_de_passe:\n",
    "            print(f\"\\nLe mot de passe pour {service} est : {self.mots_de_passe[service]}\")\n",
    "        else:\n",
    "            print(f\"\\nAucun mot de passe trouvé pour {service}.\")\n",
    "\n",
    "# Partie 3 : Chiffrement (César)\n",
    "def chiffrement_cesar(mot_de_passe, decalage):\n",
    "    \"\"\"Chiffre un mot de passe en utilisant le chiffrement de César avec un décalage donné.\"\"\"\n",
    "    result = []\n",
    "    for char in mot_de_passe:\n",
    "        if char.isalpha():  # Si le caractère est une lettre (majuscule ou minuscule)\n",
    "            shift = 65 if char.isupper() else 97\n",
    "            result.append(chr((ord(char) - shift + decalage) % 26 + shift))\n",
    "        else:\n",
    "            result.append(char)  # Ne pas chiffrer les caractères spéciaux ou chiffres\n",
    "    return ''.join(result)\n",
    "\n",
    "# Partie 4 : Déchiffrement (César)\n",
    "def dechiffrement_cesar(mot_de_passe_chiffre, decalage):\n",
    "    \"\"\"Déchiffre un mot de passe en utilisant le chiffrement de César avec un décalage donné.\"\"\"\n",
    "    result = []\n",
    "    for char in mot_de_passe_chiffre:\n",
    "        if char.isalpha():  # Si le caractère est une lettre (majuscule ou minuscule)\n",
    "            shift = 65 if char.isupper() else 97\n",
    "            # Appliquer le décalage inverse pour revenir à la lettre d'origine\n",
    "            result.append(chr((ord(char) - shift - decalage) % 26 + shift))\n",
    "        else:\n",
    "            result.append(char)  # Ne pas déchiffrer les caractères spéciaux ou chiffres\n",
    "    return ''.join(result)\n",
    "\n",
    "# Partie 5 : Interface utilisateur\n",
    "def interface():\n",
    "    gestion_mdp = GestionMotsDePasse()\n",
    "    while True:\n",
    "        print(\"\\n--- Menu Principal ---\")\n",
    "        print(\"1. Vérification du mot de passe\")\n",
    "        print(\"2. Gestion des mots de passe\")\n",
    "        print(\"3. Chiffrement / Déchiffrement\")\n",
    "        print(\"4. Quitter\")\n",
    "\n",
    "        choix = input(\"\\nChoisissez une option (1-4): \")\n",
    "\n",
    "        if choix == '1':  # Vérification du mot de passe\n",
    "            mot_de_passe = input(\"\\nEntrez un mot de passe à vérifier: \")\n",
    "            if verifier_mot_de_passe(mot_de_passe):\n",
    "                print(\"\\nMot de passe valide.\")\n",
    "                continuer = input(\"\\nSouhaitez-vous ajouter ce mot de passe à un service ? (oui/non) : \")\n",
    "                if continuer.lower() == \"oui\":\n",
    "                    service = input(\"\\nEntrez le nom du service (ex. Google) : \")\n",
    "                    gestion_mdp.ajouter_mot_de_passe(service, mot_de_passe)\n",
    "            else:\n",
    "                print(\"\\nMot de passe invalide.\")\n",
    "        \n",
    "        elif choix == '2':  # Gestion des mots de passe\n",
    "            action = input(\"\\n1. Ajouter un mot de passe\\n2. Afficher un mot de passe\\n3. Retour\\nChoisissez une option: \")\n",
    "            if action == '1':\n",
    "                service = input(\"\\nEntrez le nom du service (ex. Google): \")\n",
    "                mot_de_passe = input(\"\\nEntrez un mot de passe à ajouter: \")\n",
    "                gestion_mdp.ajouter_mot_de_passe(service, mot_de_passe)\n",
    "            elif action == '2':\n",
    "                service = input(\"\\nPour quel service voulez-vous le mot de passe ? (ex. Google): \")\n",
    "                gestion_mdp.afficher_mots_de_passe(service)\n",
    "            elif action == '3':\n",
    "                continue\n",
    "            else:\n",
    "                print(\"\\nOption invalide.\")\n",
    "        \n",
    "        elif choix == '3':  # Chiffrement / Déchiffrement\n",
    "            service = input(\"\\nEntrez le nom du service pour lequel vous voulez chiffrer ou déchiffrer le mot de passe : \")\n",
    "            if service in gestion_mdp.mots_de_passe:\n",
    "                mot_de_passe = gestion_mdp.mots_de_passe[service]\n",
    "                action = input(\"\\nSouhaitez-vous chiffrer ou déchiffrer ce mot de passe ? (chiffrer/déchiffrer) : \")\n",
    "                if action == 'chiffrer':\n",
    "                    decalage = int(input(\"\\nEntrez le décalage pour le chiffrement (ex. 3) : \"))\n",
    "                    mot_de_passe_chiffre = chiffrement_cesar(mot_de_passe, decalage)\n",
    "                    print(f\"\\nMot de passe chiffré : {mot_de_passe_chiffre}\")\n",
    "                elif action == 'déchiffrer':\n",
    "                    mot_de_passe_chiffre = input(\"\\nEntrez le mot de passe chiffré : \")\n",
    "                    decalage = int(input(\"\\nEntrez le décalage pour déchiffrer le mot de passe : \"))\n",
    "                    mot_de_passe_dechiffre = dechiffrement_cesar(mot_de_passe_chiffre, decalage)\n",
    "                    print(f\"\\nMot de passe déchiffré : {mot_de_passe_dechiffre}\")\n",
    "                else:\n",
    "                    print(\"\\nOption invalide.\")\n",
    "            else:\n",
    "                print(\"\\nAucun mot de passe trouvé pour ce service.\")\n",
    "        \n",
    "        elif choix == '4':  # Quitter le programme\n",
    "            print(\"\\nAu revoir !\")\n",
    "            break\n",
    "        \n",
    "        else:\n",
    "            print(\"\\nOption invalide.\")\n",
    "\n",
    "# Lancer l'interface utilisateur\n",
    "interface()\n"
   ]
  },
  {
   "cell_type": "code",
   "execution_count": null,
   "id": "17c3ebc5-91e5-407b-9b40-3281ffaa5604",
   "metadata": {},
   "outputs": [],
   "source": []
  }
 ],
 "metadata": {
  "kernelspec": {
   "display_name": "Python 3 (ipykernel)",
   "language": "python",
   "name": "python3"
  },
  "language_info": {
   "codemirror_mode": {
    "name": "ipython",
    "version": 3
   },
   "file_extension": ".py",
   "mimetype": "text/x-python",
   "name": "python",
   "nbconvert_exporter": "python",
   "pygments_lexer": "ipython3",
   "version": "3.12.4"
  }
 },
 "nbformat": 4,
 "nbformat_minor": 5
}
