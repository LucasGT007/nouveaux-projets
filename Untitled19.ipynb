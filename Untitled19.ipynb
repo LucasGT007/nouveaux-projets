{
 "cells": [
  {
   "cell_type": "code",
   "execution_count": 9,
   "id": "b3711cf4-cfd6-4c68-b3b3-722220e01eb9",
   "metadata": {},
   "outputs": [],
   "source": [
    "class Vehicule:\n",
    "    def __init__(self, marque, annee, kilometrage):\n",
    "        self.marque = marque\n",
    "        self.annee = annee\n",
    "        self.kilometrage = kilometrage\n",
    "\n",
    "    def decrire(self):\n",
    "        print(f\"Marque : {self.marque}\")\n",
    "        print(f\"Année : {self.annee}\")\n",
    "        print(f\"Kilométrage : {self.kilometrage} km\")\n",
    "class Voiture(Vehicule):\n",
    "    def Klaxonner(self):\n",
    "        print (\"Bip Bip!\")\n",
    "class Moto(Vehicule):\n",
    "    def rouler(self):\n",
    "        print (\"Vroom vroom!\")\n",
    "class VehiculeElectrique(Vehicule):\n",
    "    def recharger(self):\n",
    "        print (\"Recharge en cours...\")\n",
    "class VehiculeElectrique(Vehicule):\n",
    "    def conduire(self):\n",
    "        print (\"Conduite silencieuse.\")"
   ]
  },
  {
   "cell_type": "code",
   "execution_count": 17,
   "id": "2465134e-73ad-4709-8d31-b204589ea1e6",
   "metadata": {},
   "outputs": [
    {
     "ename": "AttributeError",
     "evalue": "'VehiculeElectrique' object has no attribute 'klaxonner'",
     "output_type": "error",
     "traceback": [
      "\u001b[1;31m---------------------------------------------------------------------------\u001b[0m",
      "\u001b[1;31mAttributeError\u001b[0m                            Traceback (most recent call last)",
      "Cell \u001b[1;32mIn[17], line 2\u001b[0m\n\u001b[0;32m      1\u001b[0m ma_voiture_electrique \u001b[38;5;241m=\u001b[39m VehiculeElectrique(\u001b[38;5;124m\"\u001b[39m\u001b[38;5;124mTesla\u001b[39m\u001b[38;5;124m\"\u001b[39m, \u001b[38;5;241m2023\u001b[39m, \u001b[38;5;241m15000\u001b[39m)\n\u001b[1;32m----> 2\u001b[0m ma_voiture_electrique\u001b[38;5;241m.\u001b[39mklaxonner()\n",
      "\u001b[1;31mAttributeError\u001b[0m: 'VehiculeElectrique' object has no attribute 'klaxonner'"
     ]
    }
   ],
   "source": [
    "ma_voiture_electrique = VehiculeElectrique(\"Tesla\", 2023, 15000)\n",
    "ma_voiture_electrique.klaxonner()"
   ]
  },
  {
   "cell_type": "code",
   "execution_count": null,
   "id": "fa705169-62b6-4ee9-8ca9-eab6f6a5965f",
   "metadata": {},
   "outputs": [],
   "source": []
  }
 ],
 "metadata": {
  "kernelspec": {
   "display_name": "Python 3 (ipykernel)",
   "language": "python",
   "name": "python3"
  },
  "language_info": {
   "codemirror_mode": {
    "name": "ipython",
    "version": 3
   },
   "file_extension": ".py",
   "mimetype": "text/x-python",
   "name": "python",
   "nbconvert_exporter": "python",
   "pygments_lexer": "ipython3",
   "version": "3.12.4"
  }
 },
 "nbformat": 4,
 "nbformat_minor": 5
}
