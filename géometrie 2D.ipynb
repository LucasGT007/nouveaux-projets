{
 "cells": [
  {
   "cell_type": "code",
   "execution_count": 13,
   "id": "0e563a1d-15fa-474e-b4a4-17f1897cefd9",
   "metadata": {},
   "outputs": [
    {
     "ename": "SyntaxError",
     "evalue": "invalid syntax (2185571906.py, line 10)",
     "output_type": "error",
     "traceback": [
      "\u001b[1;36m  Cell \u001b[1;32mIn[13], line 10\u001b[1;36m\u001b[0m\n\u001b[1;33m    self.kilometrage km\u001b[0m\n\u001b[1;37m                     ^\u001b[0m\n\u001b[1;31mSyntaxError\u001b[0m\u001b[1;31m:\u001b[0m invalid syntax\n"
     ]
    }
   ],
   "source": [
    "class vehicule:\n",
    "    def __init__ (self, marque, année, kilometrage):\n",
    "        self.marque=marque\n",
    "        self.année=année\n",
    "        self.kilometrage=kilometrage\n",
    "    def description(self):\n",
    "        return f\"Marque\"\n",
    "    self.marque,année\n",
    "    self.année,kilometrage\n",
    "    self.kilometrage km\n",
    "\n",
    "class voiture (vehicule):\n",
    "    def klaxonner(self):\n",
    "        return \"BIPBIP\"\n",
    "\n",
    "class moto(vehicule):\n",
    "    def recharger(self):\n",
    "        return \"recharge en cours...\"\n",
    "    def rouler(self):\n",
    "        return \"vroom vroom\"\n",
    "\n",
    "    "
   ]
  },
  {
   "cell_type": "code",
   "execution_count": null,
   "id": "268c9620-e0d6-4e48-974f-9ec7e6da901f",
   "metadata": {},
   "outputs": [],
   "source": []
  },
  {
   "cell_type": "code",
   "execution_count": null,
   "id": "3917e577-d7ef-4d1a-84bc-51445b135d94",
   "metadata": {},
   "outputs": [],
   "source": []
  }
 ],
 "metadata": {
  "kernelspec": {
   "display_name": "Python 3 (ipykernel)",
   "language": "python",
   "name": "python3"
  },
  "language_info": {
   "codemirror_mode": {
    "name": "ipython",
    "version": 3
   },
   "file_extension": ".py",
   "mimetype": "text/x-python",
   "name": "python",
   "nbconvert_exporter": "python",
   "pygments_lexer": "ipython3",
   "version": "3.12.4"
  }
 },
 "nbformat": 4,
 "nbformat_minor": 5
}
