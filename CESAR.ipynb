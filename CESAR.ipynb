{
 "cells": [
  {
   "cell_type": "code",
   "execution_count": null,
   "id": "4a19e89e-f235-434b-a5f7-4b706752c965",
   "metadata": {},
   "outputs": [
    {
     "name": "stdout",
     "output_type": "stream",
     "text": [
      "\n",
      "--- Menu Principal ---\n",
      "1. Chiffrement / Déchiffrement\n",
      "2. Quitter\n"
     ]
    },
    {
     "name": "stdin",
     "output_type": "stream",
     "text": [
      "\n",
      "Choisissez une option (1-2):  1\n"
     ]
    }
   ],
   "source": [
    "def chiffrement_cesar(mot_de_passe, decalage):\n",
    "    \"\"\"Chiffre un mot de passe en utilisant le chiffrement de César avec un décalage donné.\"\"\"\n",
    "    result = []\n",
    "    for char in mot_de_passe:\n",
    "        if char.isalpha():  \n",
    "            shift = 65 if char.isupper() else 97\n",
    "            result.append(chr((ord(char) - shift + decalage) % 26 + shift))\n",
    "        else:\n",
    "            result.append(char)  \n",
    "    return ''.join(result)\n",
    "\n",
    "# DECHIFFREMENT\n",
    "def dechiffrement_cesar(mot_de_passe_chiffre, decalage):\n",
    "    \"\"\"Déchiffre un mot de passe en utilisant le chiffrement de César avec un décalage donné.\"\"\"\n",
    "    result = []\n",
    "    for char in mot_de_passe_chiffre:\n",
    "        if char.isalpha():  \n",
    "            shift = 65 if char.isupper() else 97\n",
    "            \n",
    "            result.append(chr((ord(char) - shift - decalage) % 26 + shift))\n",
    "        else:\n",
    "            result.append(char)  \n",
    "    return ''.join(result)\n",
    "\n",
    "# INTERFACE POUR L'UTILISATEUR\n",
    "def interface():\n",
    "    while True:\n",
    "        print(\"\\n--- Menu Principal ---\")\n",
    "        print(\"1. Chiffrement / Déchiffrement\")\n",
    "        print(\"2. Quitter\")\n",
    "\n",
    "        choix = input(\"\\nChoisissez une option (1-2): \")\n",
    "\n",
    "        if choix == '1':  # Chiffrement / Déchiffrement\n",
    "            mot_de_passe = input(\"\\nEntrez un mot de passe à chiffrer ou déchiffrer : \")\n",
    "            action = input(\"\\nSouhaitez-vous chiffrer ou déchiffrer ce mot de passe ? (chiffrer/déchiffrer) : \")\n",
    "            \n",
    "            if action == 'chiffrer':\n",
    "                decalage = int(input(\"\\nEntrez le décalage pour le chiffrement (ex. 3) : \"))\n",
    "                mot_de_passe_chiffre = chiffrement_cesar(mot_de_passe, decalage)\n",
    "                print(f\"\\nMot de passe chiffré : {mot_de_passe_chiffre}\")\n",
    "            elif action == 'déchiffrer':\n",
    "                mot_de_passe_chiffre = input(\"\\nEntrez le mot de passe chiffré : \")\n",
    "                decalage = int(input(\"\\nEntrez le décalage pour déchiffrer le mot de passe : \"))\n",
    "                mot_de_passe_dechiffre = dechiffrement_cesar(mot_de_passe_chiffre, decalage)\n",
    "                print(f\"\\nMot de passe déchiffré : {mot_de_passe_dechiffre}\")\n",
    "            else:\n",
    "                print(\"\\nOption invalide.\")\n",
    "        \n",
    "        elif choix == '2':  # c pour arrêter le programme\n",
    "            print(\"\\nAu revoir\")\n",
    "            break\n",
    "        \n",
    "        else:\n",
    "            print(\"\\nOption invalide.\")\n",
    "\n",
    "# CECI LANCE L'INTERFACE\n",
    "interface()\n"
   ]
  },
  {
   "cell_type": "code",
   "execution_count": null,
   "id": "b94d01a3-5940-48c8-bfad-9ac28d3a4e99",
   "metadata": {},
   "outputs": [],
   "source": []
  }
 ],
 "metadata": {
  "kernelspec": {
   "display_name": "Python 3 (ipykernel)",
   "language": "python",
   "name": "python3"
  },
  "language_info": {
   "codemirror_mode": {
    "name": "ipython",
    "version": 3
   },
   "file_extension": ".py",
   "mimetype": "text/x-python",
   "name": "python",
   "nbconvert_exporter": "python",
   "pygments_lexer": "ipython3",
   "version": "3.12.4"
  }
 },
 "nbformat": 4,
 "nbformat_minor": 5
}
