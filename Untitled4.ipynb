{
 "cells": [
  {
   "cell_type": "code",
   "execution_count": 5,
   "id": "5052336f-787d-448c-bc68-8f97166235cb",
   "metadata": {},
   "outputs": [
    {
     "name": "stdin",
     "output_type": "stream",
     "text": [
      "Entrez un mot de passe à chiffrer :  Loldazeawdz\n",
      "Entrez le décalage pour le chiffrement (ex. 3) :  15\n"
     ]
    },
    {
     "name": "stdout",
     "output_type": "stream",
     "text": [
      "\n",
      "Mot de passe chiffré : Adaspotplso\n",
      "\n",
      "Mot de passe déchiffré : Loldazeawdz\n"
     ]
    }
   ],
   "source": [
    "def chiffrement_cesar(mot_de_passe, decalage):\n",
    "    \"\"\"Chiffre un mot de passe en utilisant le chiffrement de César avec un décalage donné.\"\"\"\n",
    "    result = []\n",
    "    for char in mot_de_passe:\n",
    "        if char.isalpha():  # Si le caractère est une lettre (majuscule ou minuscule)\n",
    "            shift = 65 if char.isupper() else 97\n",
    "            result.append(chr((ord(char) - shift + decalage) % 26 + shift))\n",
    "        else:\n",
    "            result.append(char)  # Ne pas chiffrer les caractères spéciaux ou chiffres\n",
    "    return ''.join(result)\n",
    "\n",
    "def dechiffrement_cesar(mot_de_passe_chiffre, decalage):\n",
    "    \"\"\"Déchiffre un mot de passe en utilisant le chiffrement de César avec un décalage donné.\"\"\"\n",
    "    result = []\n",
    "    for char in mot_de_passe_chiffre:\n",
    "        if char.isalpha():  # Si le caractère est une lettre (majuscule ou minuscule)\n",
    "            shift = 65 if char.isupper() else 97\n",
    "            result.append(chr((ord(char) - shift - decalage) % 26 + shift))  # Appliquer le décalage inverse\n",
    "        else:\n",
    "            result.append(char)\n",
    "    return ''.join(result)\n",
    "\n",
    "# Exemple d'utilisation\n",
    "if __name__ == \"__main__\":\n",
    "    # Exemple de chiffrement\n",
    "    mot_de_passe = input(\"Entrez un mot de passe à chiffrer : \")\n",
    "    decalage = int(input(\"Entrez le décalage pour le chiffrement (ex. 3) : \"))\n",
    "    mot_de_passe_chiffre = chiffrement_cesar(mot_de_passe, decalage)\n",
    "    print(f\"\\nMot de passe chiffré : {mot_de_passe_chiffre}\")\n",
    "    \n",
    "    # Exemple de déchiffrement\n",
    "    mot_de_passe_dechiffre = dechiffrement_cesar(mot_de_passe_chiffre, decalage)\n",
    "    print(f\"\\nMot de passe déchiffré : {mot_de_passe_dechiffre}\")\n"
   ]
  },
  {
   "cell_type": "code",
   "execution_count": null,
   "id": "444a78c6-9c59-4b77-adea-723374492083",
   "metadata": {},
   "outputs": [],
   "source": []
  },
  {
   "cell_type": "code",
   "execution_count": null,
   "id": "cc7c7367-e922-41a3-bfb6-3b7617bd9187",
   "metadata": {},
   "outputs": [],
   "source": []
  }
 ],
 "metadata": {
  "kernelspec": {
   "display_name": "Python 3 (ipykernel)",
   "language": "python",
   "name": "python3"
  },
  "language_info": {
   "codemirror_mode": {
    "name": "ipython",
    "version": 3
   },
   "file_extension": ".py",
   "mimetype": "text/x-python",
   "name": "python",
   "nbconvert_exporter": "python",
   "pygments_lexer": "ipython3",
   "version": "3.12.4"
  }
 },
 "nbformat": 4,
 "nbformat_minor": 5
}
